{
 "cells": [
  {
   "cell_type": "markdown",
   "id": "83829f4d",
   "metadata": {},
   "source": [
    "## Index:\n",
    "* [Holiday preferences?](#first-bullet)\n",
    "* [Enter your name](#second-bullet)\n",
    "* [Tell me about your holiday preferences](#third-bullet)\n",
    "* [How does the input function work?](#fourth-bullet)\n",
    "* [Destination Video](#fifth-bullet)"
   ]
  },
  {
   "cell_type": "markdown",
   "id": "98359363",
   "metadata": {},
   "source": [
    "## Holiday preferences? <a class=\"anchor\" id=\"first-bullet\"></a>\n"
   ]
  },
  {
   "cell_type": "markdown",
   "id": "06d4a3eb",
   "metadata": {},
   "source": [
    "## Enter your name <a class=\"anchor\" id=\"second-bullet\"></a>"
   ]
  },
  {
   "cell_type": "markdown",
   "id": "018a2644",
   "metadata": {},
   "source": [
    "The Markdown cell is used for Narrative text, Equations using \"Latex\", Images and Videos"
   ]
  },
  {
   "cell_type": "code",
   "execution_count": 6,
   "id": "e4d91c45",
   "metadata": {},
   "outputs": [
    {
     "name": "stdout",
     "output_type": "stream",
     "text": [
      "Please enter your name: Mauricio\n"
     ]
    }
   ],
   "source": [
    "name = input(\"Please enter your name: \")"
   ]
  },
  {
   "cell_type": "code",
   "execution_count": 26,
   "id": "ce076e6c",
   "metadata": {},
   "outputs": [
    {
     "data": {
      "text/html": [
       "<img src=\"https://cdn.prod.www.spiegel.de/images/714174eb-25e1-4d08-9859-3db6380ba186_w1600_r1.5_fpx41.32_fpy50.jpg\" width=\"400\" height=\"400\"/>"
      ],
      "text/plain": [
       "<IPython.core.display.Image object>"
      ]
     },
     "execution_count": 26,
     "metadata": {},
     "output_type": "execute_result"
    }
   ],
   "source": [
    "from IPython.display import Image\n",
    "Image(url= \"https://cdn.prod.www.spiegel.de/images/714174eb-25e1-4d08-9859-3db6380ba186_w1600_r1.5_fpx41.32_fpy50.jpg\", width=400, height=400)"
   ]
  },
  {
   "cell_type": "markdown",
   "id": "c763e50a",
   "metadata": {},
   "source": [
    "## Tell me about your holiday preferences <a class=\"anchor\" id=\"third-bullet\"></a>"
   ]
  },
  {
   "cell_type": "code",
   "execution_count": 3,
   "id": "b5732613",
   "metadata": {},
   "outputs": [
    {
     "name": "stdout",
     "output_type": "stream",
     "text": [
      "Please tell me your holidays preferences: Beach, Sea and Beer\n"
     ]
    }
   ],
   "source": [
    "holiday_preference = input(\"Please tell me your holiday preferences: \")"
   ]
  },
  {
   "cell_type": "code",
   "execution_count": 14,
   "id": "42022494",
   "metadata": {},
   "outputs": [
    {
     "data": {
      "text/html": [
       "<img src=\"https://www.about-drinks.com/wp-content/uploads/2016/01/corona-flasche-strand.jpg\" width=\"400\" height=\"400\"/>"
      ],
      "text/plain": [
       "<IPython.core.display.Image object>"
      ]
     },
     "execution_count": 14,
     "metadata": {},
     "output_type": "execute_result"
    }
   ],
   "source": [
    "from IPython.display import Image\n",
    "Image(url= \"https://www.about-drinks.com/wp-content/uploads/2016/01/corona-flasche-strand.jpg\", width=400, height=400)"
   ]
  },
  {
   "cell_type": "markdown",
   "id": "e4a95106",
   "metadata": {},
   "source": [
    "- *Partying* <br>\n",
    "- *Surfing* <br>\n",
    "- *Explore new places*"
   ]
  },
  {
   "cell_type": "markdown",
   "id": "ce6fc9e2",
   "metadata": {},
   "source": [
    "## How does the input function work? <a class=\"anchor\" id=\"fourth-bullet\"></a>"
   ]
  },
  {
   "cell_type": "markdown",
   "id": "49f150f8",
   "metadata": {},
   "source": [
    "To execute the first input function you must enter your Name and for the second input function you need to enter your holidays preferences."
   ]
  },
  {
   "cell_type": "markdown",
   "id": "f16472d0",
   "metadata": {},
   "source": [
    "## Destination Video <a class=\"anchor\" id=\"fifth-bullet\"></a>"
   ]
  },
  {
   "cell_type": "markdown",
   "id": "77031849",
   "metadata": {},
   "source": [
    "[Click here to see a video of the destination](https://www.youtube.com/watch?v=ZXzzQV-Oo0Y)"
   ]
  }
 ],
 "metadata": {
  "kernelspec": {
   "display_name": "Python 3 (ipykernel)",
   "language": "python",
   "name": "python3"
  },
  "language_info": {
   "codemirror_mode": {
    "name": "ipython",
    "version": 3
   },
   "file_extension": ".py",
   "mimetype": "text/x-python",
   "name": "python",
   "nbconvert_exporter": "python",
   "pygments_lexer": "ipython3",
   "version": "3.9.7"
  }
 },
 "nbformat": 4,
 "nbformat_minor": 5
}
